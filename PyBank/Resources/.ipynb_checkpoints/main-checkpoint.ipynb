{
 "cells": [
  {
   "cell_type": "code",
   "execution_count": 1,
   "metadata": {},
   "outputs": [],
   "source": [
    "#import dependecies\n",
    "import pandas as pd"
   ]
  },
  {
   "cell_type": "code",
   "execution_count": 2,
   "metadata": {},
   "outputs": [
    {
     "data": {
      "text/html": [
       "<div>\n",
       "<style scoped>\n",
       "    .dataframe tbody tr th:only-of-type {\n",
       "        vertical-align: middle;\n",
       "    }\n",
       "\n",
       "    .dataframe tbody tr th {\n",
       "        vertical-align: top;\n",
       "    }\n",
       "\n",
       "    .dataframe thead th {\n",
       "        text-align: right;\n",
       "    }\n",
       "</style>\n",
       "<table border=\"1\" class=\"dataframe\">\n",
       "  <thead>\n",
       "    <tr style=\"text-align: right;\">\n",
       "      <th></th>\n",
       "      <th>Date</th>\n",
       "      <th>Profit/Losses</th>\n",
       "    </tr>\n",
       "  </thead>\n",
       "  <tbody>\n",
       "    <tr>\n",
       "      <th>0</th>\n",
       "      <td>Jan-10</td>\n",
       "      <td>1088983</td>\n",
       "    </tr>\n",
       "    <tr>\n",
       "      <th>1</th>\n",
       "      <td>Feb-10</td>\n",
       "      <td>-354534</td>\n",
       "    </tr>\n",
       "    <tr>\n",
       "      <th>2</th>\n",
       "      <td>Mar-10</td>\n",
       "      <td>276622</td>\n",
       "    </tr>\n",
       "    <tr>\n",
       "      <th>3</th>\n",
       "      <td>Apr-10</td>\n",
       "      <td>-728133</td>\n",
       "    </tr>\n",
       "    <tr>\n",
       "      <th>4</th>\n",
       "      <td>May-10</td>\n",
       "      <td>852993</td>\n",
       "    </tr>\n",
       "  </tbody>\n",
       "</table>\n",
       "</div>"
      ],
      "text/plain": [
       "     Date  Profit/Losses\n",
       "0  Jan-10        1088983\n",
       "1  Feb-10        -354534\n",
       "2  Mar-10         276622\n",
       "3  Apr-10        -728133\n",
       "4  May-10         852993"
      ]
     },
     "execution_count": 2,
     "metadata": {},
     "output_type": "execute_result"
    }
   ],
   "source": [
    "# The dataset is composed of two columns: \n",
    "#\"Date\" and \"Profit/Losses\".\n",
    "# create a Python script that analyzes \n",
    "# the records to calculate each of the following values\n",
    "csvPath = \"../Resources/budget_data.csv\"\n",
    "df = pd.read_csv(csvPath)\n",
    "df.head()"
   ]
  },
  {
   "cell_type": "code",
   "execution_count": 33,
   "metadata": {},
   "outputs": [
    {
     "name": "stdout",
     "output_type": "stream",
     "text": [
      "Total Months = 86\n"
     ]
    }
   ],
   "source": [
    "# The total number of months included in \n",
    "# the dataset\n",
    "months = len(df)\n",
    "# print(len(df))\n",
    "print(f'Total Months = {months}')"
   ]
  },
  {
   "cell_type": "code",
   "execution_count": 59,
   "metadata": {},
   "outputs": [
    {
     "name": "stdout",
     "output_type": "stream",
     "text": [
      "Date             Feb-17\n",
      "Profit/Losses    382539\n",
      "Name: 85, dtype: object\n"
     ]
    }
   ],
   "source": [
    "# The net total amount of \"Profit/Losses\" \n",
    "# over the entire period\n",
    "net = 0\n",
    "valor = 0\n",
    "greater = 0\n",
    "lesser = 0\n",
    "\n",
    "for i in range(months):\n",
    "    plus = df.loc[i]['Profit/Losses']\n",
    "    net = net + plus\n",
    "\n",
    "    \n",
    "    # conditionals for greatest profit/loss\n",
    "    if plus > greater:\n",
    "        greater = i\n",
    "    elif plus < lesser:\n",
    "        lesser = df.loc[i]['Profit/Losses']\n",
    "        \n",
    "        \n",
    "        \n",
    "    #  change over time\n",
    "    valor = valor+ abs(plus)\n",
    "    mean = valor/months\n",
    "    \n",
    "    \n",
    "    \n",
    "# print(f'Net = {net}')\n",
    "# learned the formatting method below via tutoring!\n",
    "# print(f'{mean:.2f}')\n",
    "print(df.loc[greater])"
   ]
  },
  {
   "cell_type": "code",
   "execution_count": 43,
   "metadata": {},
   "outputs": [
    {
     "name": "stdout",
     "output_type": "stream",
     "text": [
      "Date              Jan-10\n",
      "Profit/Losses    1088983\n",
      "Name: 0, dtype: object\n"
     ]
    }
   ],
   "source": [
    "# The greatest increase in profits (\n",
    "# date and amount) over the entire period\n"
   ]
  },
  {
   "cell_type": "code",
   "execution_count": null,
   "metadata": {},
   "outputs": [],
   "source": [
    "# Print analysis according to rubric"
   ]
  },
  {
   "cell_type": "code",
   "execution_count": null,
   "metadata": {},
   "outputs": [],
   "source": [
    "# Export new DataFrame as .csv"
   ]
  }
 ],
 "metadata": {
  "kernelspec": {
   "display_name": "Python 3 (ipykernel)",
   "language": "python",
   "name": "python3"
  },
  "language_info": {
   "codemirror_mode": {
    "name": "ipython",
    "version": 3
   },
   "file_extension": ".py",
   "mimetype": "text/x-python",
   "name": "python",
   "nbconvert_exporter": "python",
   "pygments_lexer": "ipython3",
   "version": "3.9.13"
  }
 },
 "nbformat": 4,
 "nbformat_minor": 2
}
