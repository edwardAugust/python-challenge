{
 "cells": [
  {
   "cell_type": "code",
   "execution_count": 1,
   "metadata": {},
   "outputs": [],
   "source": [
    "#import dependecies\n",
    "import pandas as pd"
   ]
  },
  {
   "cell_type": "code",
   "execution_count": 2,
   "metadata": {},
   "outputs": [],
   "source": [
    "# The dataset is composed of two columns: \n",
    "#\"Date\" and \"Profit/Losses\".\n",
    "# create a Python script that analyzes \n",
    "# the records to calculate each of the following values\n",
    "csvPath = \"../Resources/budget_data.csv\"\n",
    "df = pd.read_csv(csvPath)\n",
    "# df.head()"
   ]
  },
  {
   "cell_type": "code",
   "execution_count": 3,
   "metadata": {},
   "outputs": [],
   "source": [
    "# The total number of months included in \n",
    "# the dataset\n",
    "months = len(df)\n",
    "# print(len(df))\n",
    "# print(f'Total Months = {months}')"
   ]
  },
  {
   "cell_type": "code",
   "execution_count": 20,
   "metadata": {},
   "outputs": [],
   "source": [
    "# The net total amount of \"Profit/Losses\" \n",
    "# over the entire period\n",
    "net = 0\n",
    "valor = 0\n",
    "greater = 0\n",
    "lesser = 0\n",
    "\n",
    "for i in range(months):\n",
    "    plus = df.loc[i]['Profit/Losses']\n",
    "    net = net + plus\n",
    "\n",
    "    \n",
    "    # conditionals for greatest profit/loss\n",
    "    if plus > greater:\n",
    "        greater = i\n",
    "    elif plus < lesser:\n",
    "        lesser = i\n",
    "        \n",
    "        \n",
    "        \n",
    "    #  change over time\n",
    "    valor = valor+ abs(plus)\n",
    "    mean = valor/months\n",
    "    \n",
    "    \n",
    "    \n",
    "# print(f'Net = {net}')\n",
    "# learned the formatting method below via tutoring!\n",
    "average = f'{mean:.2f}'\n",
    "pDate = df.loc[greater]['Date']\n",
    "profit= df.loc[greater]['Profit/Losses']\n",
    "lDate = df.loc[lesser]['Profit/Losses']\n",
    "loss = df.loc[lesser]['Profit/Losses']\n"
   ]
  },
  {
   "cell_type": "code",
   "execution_count": 21,
   "metadata": {},
   "outputs": [
    {
     "name": "stdout",
     "output_type": "stream",
     "text": [
      "['Financial Analysis', '-------------------------', 'Total Months: 86', 'Total: $22564198', 'Average Change; $606079.44', 'Greatest Increase in Profits: Feb-17 $382539', 'Greatest Decrease in Profits: -112209 $-112209']\n"
     ]
    }
   ],
   "source": [
    "ln = [\"Financial Analysis\",\n",
    "     ('-'*25),\n",
    "      f'Total Months: {months}',\n",
    "      f'Total: ${net}',\n",
    "      f'Average Change; ${average}',\n",
    "      f'Greatest Increase in Profits: {pDate} ${profit}',\n",
    "      f'Greatest Decrease in Profits: {lDate} ${loss}'\n",
    "     ]\n",
    "print(ln)"
   ]
  },
  {
   "cell_type": "code",
   "execution_count": 22,
   "metadata": {},
   "outputs": [],
   "source": [
    "# text file export\n",
    "with open('profitInfo.txt', 'w') as f:\n",
    "    f.write('\\n'.join(ln))"
   ]
  },
  {
   "cell_type": "code",
   "execution_count": null,
   "metadata": {},
   "outputs": [],
   "source": []
  }
 ],
 "metadata": {
  "kernelspec": {
   "display_name": "Python 3 (ipykernel)",
   "language": "python",
   "name": "python3"
  },
  "language_info": {
   "codemirror_mode": {
    "name": "ipython",
    "version": 3
   },
   "file_extension": ".py",
   "mimetype": "text/x-python",
   "name": "python",
   "nbconvert_exporter": "python",
   "pygments_lexer": "ipython3",
   "version": "3.9.13"
  }
 },
 "nbformat": 4,
 "nbformat_minor": 2
}
