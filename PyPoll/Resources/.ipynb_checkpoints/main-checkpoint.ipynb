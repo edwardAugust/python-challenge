{
 "cells": [
  {
   "cell_type": "code",
   "execution_count": 1,
   "id": "672f4910",
   "metadata": {},
   "outputs": [],
   "source": [
    "# import dependencies\n",
    "import pandas as pd"
   ]
  },
  {
   "cell_type": "code",
   "execution_count": 2,
   "id": "bba42eb8",
   "metadata": {
    "scrolled": true
   },
   "outputs": [],
   "source": [
    "csvPath = \"../Resources/election_data.csv\"\n",
    "df = pd.read_csv(csvPath)\n"
   ]
  },
  {
   "cell_type": "code",
   "execution_count": 3,
   "id": "d5ee7fd4",
   "metadata": {},
   "outputs": [],
   "source": [
    "# A complete list of candidates who received votes\n",
    "candidates = df[\"Candidate\"].unique()"
   ]
  },
  {
   "cell_type": "code",
   "execution_count": 4,
   "id": "cc9a94d5",
   "metadata": {},
   "outputs": [],
   "source": [
    "# The total number of votes cast\n",
    "votes = len(df)\n"
   ]
  },
  {
   "cell_type": "code",
   "execution_count": 5,
   "id": "34925993",
   "metadata": {},
   "outputs": [],
   "source": [
    "# Lets sort\n",
    "candidates = df[\"Candidate\"].value_counts().to_dict()\n"
   ]
  },
  {
   "cell_type": "code",
   "execution_count": 6,
   "id": "0c8276ac",
   "metadata": {},
   "outputs": [
    {
     "name": "stdout",
     "output_type": "stream",
     "text": [
      "['Election Results', '-------------------------', 'Total Votes: 369711', '-------------------------', 'Diana DeGette: 73.812% (272892)', 'Charles Casper Stockham: 23.049% (85213)', 'Raymon Anthony Doane: 3.139% (11606)', '-------------------------', 'Winner: Diana DeGette']\n"
     ]
    }
   ],
   "source": [
    "# print text\n",
    "ln = [\n",
    "    \"Election Results\",\n",
    "    ('-'*25),\n",
    "f'Total Votes: {votes}',\n",
    "    ('-'*25),\n",
    "    \n",
    "]\n",
    "winner = [0,\"\"]\n",
    "for can, vote in candidates.items():\n",
    "    ln.append(f'{can}: {vote/votes*100:.3f}% ({vote})')\n",
    "    if (winner[0]< vote):\n",
    "        winner[0]=vote\n",
    "        winner[1]=can\n",
    "ln += [('-'*25)] \n",
    "ln += [f'Winner: {winner[1]}']\n"
   ]
  },
  {
   "cell_type": "code",
   "execution_count": 7,
   "id": "9cc6fb31",
   "metadata": {},
   "outputs": [],
   "source": [
    "# text file export\n",
    "with open('electionResults.txt', 'w') as f:\n",
    "    f.write('\\n'.join(ln))"
   ]
  },
  {
   "cell_type": "code",
   "execution_count": null,
   "id": "b24ff2c9",
   "metadata": {},
   "outputs": [],
   "source": []
  }
 ],
 "metadata": {
  "kernelspec": {
   "display_name": "Python 3 (ipykernel)",
   "language": "python",
   "name": "python3"
  },
  "language_info": {
   "codemirror_mode": {
    "name": "ipython",
    "version": 3
   },
   "file_extension": ".py",
   "mimetype": "text/x-python",
   "name": "python",
   "nbconvert_exporter": "python",
   "pygments_lexer": "ipython3",
   "version": "3.9.13"
  }
 },
 "nbformat": 4,
 "nbformat_minor": 5
}
